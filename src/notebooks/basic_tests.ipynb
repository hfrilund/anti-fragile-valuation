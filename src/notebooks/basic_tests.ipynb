{
 "cells": [
  {
   "cell_type": "code",
   "execution_count": 8,
   "id": "initial_id",
   "metadata": {
    "collapsed": true,
    "ExecuteTime": {
     "end_time": "2025-09-24T16:37:33.632730Z",
     "start_time": "2025-09-24T16:37:33.592395Z"
    }
   },
   "outputs": [
    {
     "ename": "IOException",
     "evalue": "IO Error: Could not set lock on file \"/Users/henrifrilund/work/afv_prod/src/notebooks/../../data/finance_data.db\": Conflicting lock is held in /Users/henrifrilund/anaconda3/bin/python3.11 (PID 55680) by user henrifrilund. See also https://duckdb.org/docs/stable/connect/concurrency",
     "output_type": "error",
     "traceback": [
      "\u001B[31m---------------------------------------------------------------------------\u001B[39m",
      "\u001B[31mIOException\u001B[39m                               Traceback (most recent call last)",
      "\u001B[36mCell\u001B[39m\u001B[36m \u001B[39m\u001B[32mIn[8]\u001B[39m\u001B[32m, line 2\u001B[39m\n\u001B[32m      1\u001B[39m \u001B[38;5;28;01mimport\u001B[39;00m\u001B[38;5;250m \u001B[39m\u001B[34;01mduckdb\u001B[39;00m\n\u001B[32m----> \u001B[39m\u001B[32m2\u001B[39m con = \u001B[43mduckdb\u001B[49m\u001B[43m.\u001B[49m\u001B[43mconnect\u001B[49m\u001B[43m(\u001B[49m\u001B[33;43m\"\u001B[39;49m\u001B[33;43m../../data/finance_data.db\u001B[39;49m\u001B[33;43m\"\u001B[39;49m\u001B[43m)\u001B[49m\n\u001B[32m      4\u001B[39m \u001B[38;5;66;03m# List tables\u001B[39;00m\n\u001B[32m      5\u001B[39m con.sql(\u001B[33m\"\u001B[39m\u001B[33mSHOW TABLES\u001B[39m\u001B[33m\"\u001B[39m).df()\n",
      "\u001B[31mIOException\u001B[39m: IO Error: Could not set lock on file \"/Users/henrifrilund/work/afv_prod/src/notebooks/../../data/finance_data.db\": Conflicting lock is held in /Users/henrifrilund/anaconda3/bin/python3.11 (PID 55680) by user henrifrilund. See also https://duckdb.org/docs/stable/connect/concurrency"
     ]
    }
   ],
   "source": [
    "import duckdb\n",
    "con = duckdb.connect(\"../../data/finance_data.db\")\n",
    "\n",
    "# List tables\n",
    "con.sql(\"SHOW TABLES\").df()"
   ]
  },
  {
   "cell_type": "code",
   "execution_count": 5,
   "outputs": [
    {
     "data": {
      "text/plain": "  avg_daily_volume\n0           493374",
      "text/html": "<div>\n<style scoped>\n    .dataframe tbody tr th:only-of-type {\n        vertical-align: middle;\n    }\n\n    .dataframe tbody tr th {\n        vertical-align: top;\n    }\n\n    .dataframe thead th {\n        text-align: right;\n    }\n</style>\n<table border=\"1\" class=\"dataframe\">\n  <thead>\n    <tr style=\"text-align: right;\">\n      <th></th>\n      <th>avg_daily_volume</th>\n    </tr>\n  </thead>\n  <tbody>\n    <tr>\n      <th>0</th>\n      <td>493374</td>\n    </tr>\n  </tbody>\n</table>\n</div>"
     },
     "execution_count": 5,
     "metadata": {},
     "output_type": "execute_result"
    }
   ],
   "source": [
    "con.sql(\"select json_extract_string(data, '$.averageDailyVolume3Month.0') as avg_daily_volume from yahoo_data where symbol = 'FLNG' and dataset = 'info'\").df()"
   ],
   "metadata": {
    "collapsed": false,
    "ExecuteTime": {
     "end_time": "2025-09-24T06:55:51.693107Z",
     "start_time": "2025-09-24T06:55:51.676323Z"
    }
   },
   "id": "29fcbfb2406c6563"
  },
  {
   "cell_type": "code",
   "execution_count": 165,
   "outputs": [
    {
     "data": {
      "text/plain": "     symbol       afv        rp  fcf_yield  ocf_margin  ocf_margin_volatility  \\\n0    0QF.DE  4.111956  2.811955   0.252012    0.267997               8.211475   \n1   1CNC.MI  2.896768  1.596768   0.240243    0.031778               0.689594   \n2   1ALV.MI  0.500000  0.000000   0.168457    0.246511               0.136263   \n3  1CNHI.MI  0.206105 -0.793895   0.057619    0.085806               0.918888   \n4   1COV.DE  0.141886 -0.858114   0.044530    0.080574               0.479616   \n5   1AAL.MI -0.823127 -0.623127   0.079511    0.057374               0.449029   \n6   1BNP.MI -1.000000  0.000000  -0.425061   -0.593384               1.708210   \n7    11B.WA -1.100000 -1.200000  -0.020307    0.314092               0.573047   \n8  1CLSK.MI -1.200000  0.000000  -0.111786   -0.280480               2.883454   \n\n   sector_score  geo_score  debt_score  trend_score  vd_score  \\\n0           1.0        0.8         1.0         -1.0      -0.5   \n1           1.0        0.8         0.5         -1.0       0.0   \n2          -1.0        1.0         0.0          0.5       0.0   \n3           1.0        1.0        -1.5          0.5       0.0   \n4           0.5        1.0         0.5         -0.5      -0.5   \n5          -1.0        0.8         0.0          0.0       0.0   \n6          -1.0        1.0         0.0         -1.0       0.0   \n7           0.0        0.6         1.0         -0.5      -1.0   \n8          -1.0        0.8         0.0         -1.0       0.0   \n\n                 computed_at  \n0 2025-09-22 10:30:16.138696  \n1 2025-09-22 10:30:17.459578  \n2 2025-09-22 10:30:16.847966  \n3 2025-09-22 10:30:17.720339  \n4 2025-09-22 10:30:17.850553  \n5 2025-09-22 10:30:16.722035  \n6 2025-09-22 10:30:16.983204  \n7 2025-09-22 10:30:16.490642  \n8 2025-09-22 10:30:17.223159  ",
      "text/html": "<div>\n<style scoped>\n    .dataframe tbody tr th:only-of-type {\n        vertical-align: middle;\n    }\n\n    .dataframe tbody tr th {\n        vertical-align: top;\n    }\n\n    .dataframe thead th {\n        text-align: right;\n    }\n</style>\n<table border=\"1\" class=\"dataframe\">\n  <thead>\n    <tr style=\"text-align: right;\">\n      <th></th>\n      <th>symbol</th>\n      <th>afv</th>\n      <th>rp</th>\n      <th>fcf_yield</th>\n      <th>ocf_margin</th>\n      <th>ocf_margin_volatility</th>\n      <th>sector_score</th>\n      <th>geo_score</th>\n      <th>debt_score</th>\n      <th>trend_score</th>\n      <th>vd_score</th>\n      <th>computed_at</th>\n    </tr>\n  </thead>\n  <tbody>\n    <tr>\n      <th>0</th>\n      <td>0QF.DE</td>\n      <td>4.111956</td>\n      <td>2.811955</td>\n      <td>0.252012</td>\n      <td>0.267997</td>\n      <td>8.211475</td>\n      <td>1.0</td>\n      <td>0.8</td>\n      <td>1.0</td>\n      <td>-1.0</td>\n      <td>-0.5</td>\n      <td>2025-09-22 10:30:16.138696</td>\n    </tr>\n    <tr>\n      <th>1</th>\n      <td>1CNC.MI</td>\n      <td>2.896768</td>\n      <td>1.596768</td>\n      <td>0.240243</td>\n      <td>0.031778</td>\n      <td>0.689594</td>\n      <td>1.0</td>\n      <td>0.8</td>\n      <td>0.5</td>\n      <td>-1.0</td>\n      <td>0.0</td>\n      <td>2025-09-22 10:30:17.459578</td>\n    </tr>\n    <tr>\n      <th>2</th>\n      <td>1ALV.MI</td>\n      <td>0.500000</td>\n      <td>0.000000</td>\n      <td>0.168457</td>\n      <td>0.246511</td>\n      <td>0.136263</td>\n      <td>-1.0</td>\n      <td>1.0</td>\n      <td>0.0</td>\n      <td>0.5</td>\n      <td>0.0</td>\n      <td>2025-09-22 10:30:16.847966</td>\n    </tr>\n    <tr>\n      <th>3</th>\n      <td>1CNHI.MI</td>\n      <td>0.206105</td>\n      <td>-0.793895</td>\n      <td>0.057619</td>\n      <td>0.085806</td>\n      <td>0.918888</td>\n      <td>1.0</td>\n      <td>1.0</td>\n      <td>-1.5</td>\n      <td>0.5</td>\n      <td>0.0</td>\n      <td>2025-09-22 10:30:17.720339</td>\n    </tr>\n    <tr>\n      <th>4</th>\n      <td>1COV.DE</td>\n      <td>0.141886</td>\n      <td>-0.858114</td>\n      <td>0.044530</td>\n      <td>0.080574</td>\n      <td>0.479616</td>\n      <td>0.5</td>\n      <td>1.0</td>\n      <td>0.5</td>\n      <td>-0.5</td>\n      <td>-0.5</td>\n      <td>2025-09-22 10:30:17.850553</td>\n    </tr>\n    <tr>\n      <th>5</th>\n      <td>1AAL.MI</td>\n      <td>-0.823127</td>\n      <td>-0.623127</td>\n      <td>0.079511</td>\n      <td>0.057374</td>\n      <td>0.449029</td>\n      <td>-1.0</td>\n      <td>0.8</td>\n      <td>0.0</td>\n      <td>0.0</td>\n      <td>0.0</td>\n      <td>2025-09-22 10:30:16.722035</td>\n    </tr>\n    <tr>\n      <th>6</th>\n      <td>1BNP.MI</td>\n      <td>-1.000000</td>\n      <td>0.000000</td>\n      <td>-0.425061</td>\n      <td>-0.593384</td>\n      <td>1.708210</td>\n      <td>-1.0</td>\n      <td>1.0</td>\n      <td>0.0</td>\n      <td>-1.0</td>\n      <td>0.0</td>\n      <td>2025-09-22 10:30:16.983204</td>\n    </tr>\n    <tr>\n      <th>7</th>\n      <td>11B.WA</td>\n      <td>-1.100000</td>\n      <td>-1.200000</td>\n      <td>-0.020307</td>\n      <td>0.314092</td>\n      <td>0.573047</td>\n      <td>0.0</td>\n      <td>0.6</td>\n      <td>1.0</td>\n      <td>-0.5</td>\n      <td>-1.0</td>\n      <td>2025-09-22 10:30:16.490642</td>\n    </tr>\n    <tr>\n      <th>8</th>\n      <td>1CLSK.MI</td>\n      <td>-1.200000</td>\n      <td>0.000000</td>\n      <td>-0.111786</td>\n      <td>-0.280480</td>\n      <td>2.883454</td>\n      <td>-1.0</td>\n      <td>0.8</td>\n      <td>0.0</td>\n      <td>-1.0</td>\n      <td>0.0</td>\n      <td>2025-09-22 10:30:17.223159</td>\n    </tr>\n  </tbody>\n</table>\n</div>"
     },
     "execution_count": 165,
     "metadata": {},
     "output_type": "execute_result"
    }
   ],
   "source": [
    "con.sql(\"select * from afv_20_scores where afv <> 'NaN' order by afv desc limit 100\").df()"
   ],
   "metadata": {
    "collapsed": false,
    "ExecuteTime": {
     "end_time": "2025-09-22T07:30:34.007013Z",
     "start_time": "2025-09-22T07:30:33.998290Z"
    }
   },
   "id": "c4a33723d76e90f3"
  },
  {
   "cell_type": "code",
   "execution_count": 52,
   "outputs": [
    {
     "data": {
      "text/plain": "  (current_timestamp + to_months(CAST(trunc(CAST(1 AS DOUBLE)) AS INTEGER)))\n0                   2025-10-19 14:12:36.751380+03:00                        ",
      "text/html": "<div>\n<style scoped>\n    .dataframe tbody tr th:only-of-type {\n        vertical-align: middle;\n    }\n\n    .dataframe tbody tr th {\n        vertical-align: top;\n    }\n\n    .dataframe thead th {\n        text-align: right;\n    }\n</style>\n<table border=\"1\" class=\"dataframe\">\n  <thead>\n    <tr style=\"text-align: right;\">\n      <th></th>\n      <th>(current_timestamp + to_months(CAST(trunc(CAST(1 AS DOUBLE)) AS INTEGER)))</th>\n    </tr>\n  </thead>\n  <tbody>\n    <tr>\n      <th>0</th>\n      <td>2025-10-19 14:12:36.751380+03:00</td>\n    </tr>\n  </tbody>\n</table>\n</div>"
     },
     "execution_count": 52,
     "metadata": {},
     "output_type": "execute_result"
    }
   ],
   "source": [
    "con.sql(\"select current_timestamp + INTERVAL 1 MONTH\").df()"
   ],
   "metadata": {
    "collapsed": false,
    "ExecuteTime": {
     "end_time": "2025-09-19T11:12:36.764031Z",
     "start_time": "2025-09-19T11:12:36.752356Z"
    }
   },
   "id": "357e128f4cb43381"
  },
  {
   "cell_type": "code",
   "execution_count": 40,
   "outputs": [
    {
     "ename": "BinderException",
     "evalue": "Binder Error: Column name/value mismatch for insert on yahoo_data: expected 4 columns but 3 values were supplied",
     "output_type": "error",
     "traceback": [
      "\u001B[31m---------------------------------------------------------------------------\u001B[39m",
      "\u001B[31mBinderException\u001B[39m                           Traceback (most recent call last)",
      "\u001B[36mCell\u001B[39m\u001B[36m \u001B[39m\u001B[32mIn[40]\u001B[39m\u001B[32m, line 1\u001B[39m\n\u001B[32m----> \u001B[39m\u001B[32m1\u001B[39m \u001B[43mcon\u001B[49m\u001B[43m.\u001B[49m\u001B[43msql\u001B[49m\u001B[43m(\u001B[49m\u001B[33;43m\"\u001B[39;49m\u001B[33;43minsert into yahoo_data (symbol, dataset, data, ts) values (\u001B[39;49m\u001B[33;43m'\u001B[39;49m\u001B[33;43mtest\u001B[39;49m\u001B[33;43m'\u001B[39;49m\u001B[33;43m, \u001B[39;49m\u001B[33;43m'\u001B[39;49m\u001B[33;43mtest\u001B[39;49m\u001B[33;43m'\u001B[39;49m\u001B[33;43m, \u001B[39;49m\u001B[33;43m'\u001B[39;49m\u001B[38;5;132;43;01m{}\u001B[39;49;00m\u001B[33;43m'\u001B[39;49m\u001B[33;43m)\u001B[39;49m\u001B[33;43m\"\u001B[39;49m\u001B[43m)\u001B[49m\n",
      "\u001B[31mBinderException\u001B[39m: Binder Error: Column name/value mismatch for insert on yahoo_data: expected 4 columns but 3 values were supplied"
     ]
    }
   ],
   "source": [
    "con.sql(\"insert into yahoo_data (symbol, dataset, data, ts) values ('test', 'test', '{}')\")"
   ],
   "metadata": {
    "collapsed": false,
    "ExecuteTime": {
     "end_time": "2025-09-19T11:07:22.015749Z",
     "start_time": "2025-09-19T11:07:21.995037Z"
    }
   },
   "id": "e5a52867df2ad85"
  },
  {
   "cell_type": "code",
   "execution_count": 9,
   "outputs": [
    {
     "ename": "ConnectionException",
     "evalue": "Connection Error: Connection already closed!",
     "output_type": "error",
     "traceback": [
      "\u001B[31m---------------------------------------------------------------------------\u001B[39m",
      "\u001B[31mConnectionException\u001B[39m                       Traceback (most recent call last)",
      "\u001B[36mCell\u001B[39m\u001B[36m \u001B[39m\u001B[32mIn[9]\u001B[39m\u001B[32m, line 1\u001B[39m\n\u001B[32m----> \u001B[39m\u001B[32m1\u001B[39m \u001B[43mcon\u001B[49m\u001B[43m.\u001B[49m\u001B[43msql\u001B[49m\u001B[43m(\u001B[49m\u001B[33;43m\"\u001B[39;49m\u001B[33;43mselect *  from tickers where mic = \u001B[39;49m\u001B[33;43m'\u001B[39;49m\u001B[33;43mFCX\u001B[39;49m\u001B[33;43m'\u001B[39;49m\u001B[33;43m\"\u001B[39;49m\u001B[43m)\u001B[49m.df()\n",
      "\u001B[31mConnectionException\u001B[39m: Connection Error: Connection already closed!"
     ]
    }
   ],
   "source": [
    "con.sql(\"select *  from tickers where mic = 'FCX'\").df()\n"
   ],
   "metadata": {
    "collapsed": false,
    "ExecuteTime": {
     "end_time": "2025-09-25T14:44:15.294167Z",
     "start_time": "2025-09-25T14:44:15.278204Z"
    }
   },
   "id": "f96e223f11735e4f"
  },
  {
   "cell_type": "code",
   "execution_count": 171,
   "outputs": [
    {
     "ename": "AttributeError",
     "evalue": "'NoneType' object has no attribute 'df'",
     "output_type": "error",
     "traceback": [
      "\u001B[31m---------------------------------------------------------------------------\u001B[39m",
      "\u001B[31mAttributeError\u001B[39m                            Traceback (most recent call last)",
      "\u001B[36mCell\u001B[39m\u001B[36m \u001B[39m\u001B[32mIn[171]\u001B[39m\u001B[32m, line 1\u001B[39m\n\u001B[32m----> \u001B[39m\u001B[32m1\u001B[39m \u001B[43mcon\u001B[49m\u001B[43m.\u001B[49m\u001B[43msql\u001B[49m\u001B[43m(\u001B[49m\u001B[33;43m\"\u001B[39;49m\u001B[33;43mdrop table afv_20_scores\u001B[39;49m\u001B[33;43m\"\u001B[39;49m\u001B[43m)\u001B[49m\u001B[43m.\u001B[49m\u001B[43mdf\u001B[49m()\n",
      "\u001B[31mAttributeError\u001B[39m: 'NoneType' object has no attribute 'df'"
     ]
    }
   ],
   "source": [
    "con.sql(\"drop table afv_20_scores\").df()"
   ],
   "metadata": {
    "collapsed": false,
    "ExecuteTime": {
     "end_time": "2025-09-22T09:28:43.714018Z",
     "start_time": "2025-09-22T09:28:43.685767Z"
    }
   },
   "id": "d689e47f12945b56"
  },
  {
   "cell_type": "code",
   "execution_count": 159,
   "outputs": [
    {
     "ename": "AttributeError",
     "evalue": "'NoneType' object has no attribute 'df'",
     "output_type": "error",
     "traceback": [
      "\u001B[31m---------------------------------------------------------------------------\u001B[39m",
      "\u001B[31mAttributeError\u001B[39m                            Traceback (most recent call last)",
      "\u001B[36mCell\u001B[39m\u001B[36m \u001B[39m\u001B[32mIn[159]\u001B[39m\u001B[32m, line 1\u001B[39m\n\u001B[32m----> \u001B[39m\u001B[32m1\u001B[39m \u001B[43mcon\u001B[49m\u001B[43m.\u001B[49m\u001B[43msql\u001B[49m\u001B[43m(\u001B[49m\u001B[33;43m\"\u001B[39;49m\u001B[33;43mdelete from afv_20_scores\u001B[39;49m\u001B[33;43m\"\u001B[39;49m\u001B[43m)\u001B[49m\u001B[43m.\u001B[49m\u001B[43mdf\u001B[49m()\n",
      "\u001B[31mAttributeError\u001B[39m: 'NoneType' object has no attribute 'df'"
     ]
    }
   ],
   "source": [
    "con.sql(\"delete from afv_20_scores\").df()"
   ],
   "metadata": {
    "collapsed": false,
    "ExecuteTime": {
     "end_time": "2025-09-22T06:59:55.827284Z",
     "start_time": "2025-09-22T06:59:55.804508Z"
    }
   },
   "id": "18f96867bb42ce9b"
  },
  {
   "cell_type": "code",
   "execution_count": 6,
   "outputs": [],
   "source": [
    "con.close()"
   ],
   "metadata": {
    "collapsed": false,
    "ExecuteTime": {
     "end_time": "2025-09-24T06:56:18.091438Z",
     "start_time": "2025-09-24T06:56:18.085947Z"
    }
   },
   "id": "a98cdda94bb3c871"
  },
  {
   "cell_type": "code",
   "execution_count": null,
   "outputs": [],
   "source": [],
   "metadata": {
    "collapsed": false
   },
   "id": "3b3ddfb9a7d493ab"
  }
 ],
 "metadata": {
  "kernelspec": {
   "display_name": "Python 3",
   "language": "python",
   "name": "python3"
  },
  "language_info": {
   "codemirror_mode": {
    "name": "ipython",
    "version": 2
   },
   "file_extension": ".py",
   "mimetype": "text/x-python",
   "name": "python",
   "nbconvert_exporter": "python",
   "pygments_lexer": "ipython2",
   "version": "2.7.6"
  }
 },
 "nbformat": 4,
 "nbformat_minor": 5
}
