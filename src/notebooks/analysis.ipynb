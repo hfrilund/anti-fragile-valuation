{
 "cells": [
  {
   "cell_type": "code",
   "execution_count": 20,
   "id": "initial_id",
   "metadata": {
    "ExecuteTime": {
     "end_time": "2025-09-25T14:53:35.121099Z",
     "start_time": "2025-09-25T14:53:35.118971Z"
    }
   },
   "outputs": [
    {
     "name": "stdout",
     "output_type": "stream",
     "text": [
      "The sql extension is already loaded. To reload it, use:\n",
      "  %reload_ext sql\n"
     ]
    }
   ],
   "source": [
    "import duckdb\n",
    "import pandas as pd\n",
    "\n",
    "%load_ext sql\n",
    "con = duckdb.connect(\"../../data/finance_data.db\")\n",
    "%sql con --alias duckdb\n",
    "%config SqlMagic.autopandas = True\n",
    "%config SqlMagic.feedback = False\n",
    "%config SqlMagic.displaycon = False"
   ]
  },
  {
   "cell_type": "code",
   "execution_count": 21,
   "id": "494c12cf8910e83f",
   "metadata": {
    "collapsed": false,
    "ExecuteTime": {
     "end_time": "2025-09-25T14:53:35.703596Z",
     "start_time": "2025-09-25T14:53:35.131143Z"
    }
   },
   "outputs": [],
   "source": [
    "%%sql df <<\n",
    "\n",
    "with scores as (\n",
    "    select \n",
    "        * \n",
    "    from afv_20_scores \n",
    "    order by afv desc \n",
    "),\n",
    "    \n",
    "infos as (\n",
    "    select\n",
    "        symbol,\n",
    "        cast(json_value(data, '$.marketCap.0') as bigint) as market_cap,\n",
    "        json_extract_string(data, '$.country.0') as country,\n",
    "    json_extract_string(data, '$.industry.0') as industry,\n",
    "        json_extract_string(data, '$.averageDailyVolume3Month.0') as avg_daily_volume\n",
    "    from yahoo_data\n",
    "    where dataset = 'info'\n",
    ")\n",
    "\n",
    "select\n",
    "    scores.*,\n",
    "    infos.market_cap / 1e9 as market_cap_billion,\n",
    "    infos.industry,\n",
    "    infos.country,\n",
    "    infos.avg_daily_volume\n",
    "from scores\n",
    "left join infos\n",
    "    on infos.symbol = scores.symbol\n",
    "limit 500"
   ]
  },
  {
   "cell_type": "code",
   "execution_count": 22,
   "outputs": [],
   "source": [
    "from datetime import datetime\n",
    "\n",
    "date_str = datetime.today().strftime(\"%Y-%m-%d\")\n",
    "filename = f\"afv_results_top50_{date_str}.csv\"\n",
    "df.to_csv(filename, index=False)"
   ],
   "metadata": {
    "collapsed": false,
    "ExecuteTime": {
     "end_time": "2025-09-25T14:53:35.713774Z",
     "start_time": "2025-09-25T14:53:35.704983Z"
    }
   },
   "id": "d6d5721cf575ebb9"
  },
  {
   "cell_type": "code",
   "execution_count": 23,
   "id": "6b498886b2705926",
   "metadata": {
    "collapsed": false,
    "ExecuteTime": {
     "end_time": "2025-09-25T14:53:35.718192Z",
     "start_time": "2025-09-25T14:53:35.713894Z"
    }
   },
   "outputs": [],
   "source": [
    "con.close()"
   ]
  }
 ],
 "metadata": {
  "kernelspec": {
   "display_name": "Python 3 (ipykernel)",
   "language": "python",
   "name": "python3"
  },
  "language_info": {
   "codemirror_mode": {
    "name": "ipython",
    "version": 3
   },
   "file_extension": ".py",
   "mimetype": "text/x-python",
   "name": "python",
   "nbconvert_exporter": "python",
   "pygments_lexer": "ipython3",
   "version": "3.11.3"
  }
 },
 "nbformat": 4,
 "nbformat_minor": 5
}
